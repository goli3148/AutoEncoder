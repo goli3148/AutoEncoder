{
 "cells": [
  {
   "cell_type": "code",
   "execution_count": 86,
   "metadata": {},
   "outputs": [],
   "source": [
    "import torch.nn as nn\n",
    "import torchvision\n",
    "from torch.utils.data import DataLoader\n",
    "from torchvision import transforms\n",
    "import torch.nn.functional as F\n",
    "import torch"
   ]
  },
  {
   "cell_type": "code",
   "execution_count": 87,
   "metadata": {},
   "outputs": [],
   "source": [
    "device = torch.device('cuda' if torch.cuda.is_available() else 'cpu')"
   ]
  },
  {
   "cell_type": "code",
   "execution_count": 88,
   "metadata": {},
   "outputs": [],
   "source": [
    "# Config\n",
    "batch_size = 100\n",
    "n_iters = 5000\n",
    "num_epochs = None\n"
   ]
  },
  {
   "cell_type": "code",
   "execution_count": 89,
   "metadata": {},
   "outputs": [],
   "source": [
    "train_dataset = torchvision.datasets.FashionMNIST(root='./data', train=True, transform=transforms.ToTensor(), download=True)\n",
    "test_dataset = torchvision.datasets.FashionMNIST(root='./data', train=False, transform=transforms.ToTensor(), download=True)\n",
    "\n",
    "train_dataloader = DataLoader(train_dataset, batch_size=batch_size, shuffle=True)\n",
    "test_dataloader = DataLoader(test_dataset, batch_size=batch_size, shuffle=False)\n"
   ]
  },
  {
   "cell_type": "code",
   "execution_count": 90,
   "metadata": {},
   "outputs": [],
   "source": [
    "num_epochs = int(n_iters / (len(train_dataset) / batch_size))"
   ]
  },
  {
   "cell_type": "code",
   "execution_count": 91,
   "metadata": {},
   "outputs": [
    {
     "data": {
      "text/plain": [
       "torch.Size([100, 1, 28, 28])"
      ]
     },
     "execution_count": 91,
     "metadata": {},
     "output_type": "execute_result"
    }
   ],
   "source": [
    "samples = iter(train_dataloader)\n",
    "samples._next_data()[0].shape"
   ]
  },
  {
   "cell_type": "code",
   "execution_count": 92,
   "metadata": {},
   "outputs": [],
   "source": [
    "class FullyConnectedAutoEncode(nn.Module):\n",
    "    def __init__(self, input_dim, hidden_dim, output_dim):\n",
    "        super(FullyConnectedAutoEncode, self).__init__()\n",
    "        # Encoder: Affine Function\n",
    "        self.fc1 = nn.Linear(input_dim, hidden_dim)\n",
    "        # Decoder: Affine Function\n",
    "        self.fc2 = nn.Linear(hidden_dim, output_dim)\n",
    "    \n",
    "    def forward(self, x):\n",
    "        # Encoder: affine function\n",
    "        out = self.fc1(x)\n",
    "        # Encoder: non-linear function\n",
    "        out = F.leaky_relu(out)\n",
    "\n",
    "        # Decoder: affine function\n",
    "        out = self.fc2(out)\n",
    "        # Decoder: non-linear function\n",
    "        out = torch.sigmoid(out)\n",
    "\n",
    "        return out\n",
    "    \n",
    "input_dim = 28*28\n",
    "hidden_dim = int(input_dim * 1.5)\n",
    "output_dim = input_dim\n",
    "learning_rate = 1e-3\n",
    "\n",
    "model = FullyConnectedAutoEncode(input_dim, hidden_dim, output_dim).to(device=device)\n",
    "criterion = nn.MSELoss()\n",
    "optim = torch.optim.Adam(model.parameters(), lr=learning_rate)"
   ]
  },
  {
   "cell_type": "code",
   "execution_count": 93,
   "metadata": {},
   "outputs": [
    {
     "name": "stdout",
     "output_type": "stream",
     "text": [
      "Iteration: 500. Average Test Loss: 0.00016181077808141708.\n",
      "Iteration: 1000. Average Test Loss: 0.00014505648869089782.\n",
      "Iteration: 1500. Average Test Loss: 0.00013259751722216606.\n",
      "Iteration: 2000. Average Test Loss: 0.00012482349120546132.\n",
      "Iteration: 2500. Average Test Loss: 0.0001206278902827762.\n",
      "Iteration: 3000. Average Test Loss: 0.00011856437777169049.\n",
      "Iteration: 3500. Average Test Loss: 0.00011562420695554465.\n",
      "Iteration: 4000. Average Test Loss: 0.0001144960115198046.\n",
      "Iteration: 4500. Average Test Loss: 0.0001131142198573798.\n"
     ]
    }
   ],
   "source": [
    "idx = 0\n",
    "# Dropout for creating noisy images\n",
    "# by dropping out pixel with a 50% probability\n",
    "dropout = nn.Dropout(0.5)\n",
    "\n",
    "for epoch in range(num_epochs):\n",
    "    for i, (images, labels) in enumerate(train_dataloader):\n",
    "        images = images.reshape(-1, 28*28)\n",
    "        noisy_image = dropout(torch.ones(images.shape)) * images\n",
    "        noisy_image = noisy_image.to(device)\n",
    "        images = images.to(device)\n",
    "\n",
    "        optim.zero_grad()\n",
    "\n",
    "        output = model(noisy_image)\n",
    "\n",
    "        loss = criterion(images, output)\n",
    "\n",
    "        loss.backward()\n",
    "\n",
    "        optim.step()\n",
    "\n",
    "        idx += 1\n",
    "\n",
    "        if idx % 500 == 0:\n",
    "            with torch.no_grad():\n",
    "                total_test_samples = 0\n",
    "                total_test_loss = 0\n",
    "                for images_, labels_ in test_dataloader:\n",
    "                    \n",
    "                    # Noisy images\n",
    "                    images_ = images_\n",
    "                    noisy_image = dropout(torch.ones(images_.shape)) * images_\n",
    "                    images_ = images_.to(device)\n",
    "                    noisy_image = noisy_image.to(device)\n",
    "                    \n",
    "                    # Forward pass only to get logits/output\n",
    "                    outputs = model(noisy_image.view(-1, 28*28))\n",
    "\n",
    "                    # Test loss\n",
    "                    test_loss = criterion(outputs, images_.view(-1, 28*28))\n",
    "\n",
    "                    # Total number of labels\n",
    "                    total_test_samples += labels.size(0)\n",
    "\n",
    "                    # Total test loss\n",
    "                    total_test_loss += test_loss\n",
    "\n",
    "                mean_test_loss = total_test_loss / total_test_samples\n",
    "\n",
    "                # Print Loss\n",
    "                print(f'Iteration: {idx}. Average Test Loss: {mean_test_loss.item()}.')"
   ]
  }
 ],
 "metadata": {
  "kernelspec": {
   "display_name": "nn",
   "language": "python",
   "name": "python3"
  },
  "language_info": {
   "codemirror_mode": {
    "name": "ipython",
    "version": 3
   },
   "file_extension": ".py",
   "mimetype": "text/x-python",
   "name": "python",
   "nbconvert_exporter": "python",
   "pygments_lexer": "ipython3",
   "version": "3.12.7"
  }
 },
 "nbformat": 4,
 "nbformat_minor": 2
}
